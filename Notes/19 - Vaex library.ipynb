{
 "cells": [
  {
   "cell_type": "code",
   "execution_count": 1,
   "metadata": {},
   "outputs": [],
   "source": [
    "   ########     ################   Data manipulation of huge datasets :  Vaex Library     #################     #########"
   ]
  },
  {
   "cell_type": "code",
   "execution_count": null,
   "metadata": {},
   "outputs": [],
   "source": [
    " =>  Vaex is a high performance Python library for lazy Out-of-Core DataFrames (similar to Pandas), to visualize and explore\n",
    "        big tabular datasets. \n",
    "    \n",
    " =>  It calculates statistics such as mean, sum, count, standard deviation etc, on an N-dimensional grid for more than\n",
    "          a billion (10^9) samples/rows per second.\n",
    "    \n",
    " =>  Visualization is done using histograms, density plots and 3d volume rendering, allowing interactive exploration of big data. \n",
    "\n",
    " =>  Vaex uses memory mapping, zero memory copy policy and lazy computations for best performance (no memory wasted)."
   ]
  },
  {
   "cell_type": "code",
   "execution_count": 1,
   "metadata": {},
   "outputs": [],
   "source": [
    "#  Importing required libraries\n",
    "\n",
    "import numpy as np\n",
    "import pandas as pd\n",
    "import vaex\n"
   ]
  },
  {
   "cell_type": "code",
   "execution_count": 12,
   "metadata": {},
   "outputs": [
    {
     "data": {
      "text/html": [
       "<table>\n",
       "<thead>\n",
       "<tr><th>#                              </th><th>PassengerId  </th><th>Survived  </th><th>Pclass  </th><th>Name                                               </th><th>Sex   </th><th>Age  </th><th>SibSp  </th><th>Parch  </th><th>Ticket          </th><th>Fare   </th><th>Cabin  </th><th>Embarked  </th></tr>\n",
       "</thead>\n",
       "<tbody>\n",
       "<tr><td><i style='opacity: 0.6'>0</i>  </td><td>1            </td><td>0         </td><td>3       </td><td>Braund, Mr. Owen Harris                            </td><td>male  </td><td>22.0 </td><td>1      </td><td>0      </td><td>A/5 21171       </td><td>7.25   </td><td>nan    </td><td>S         </td></tr>\n",
       "<tr><td><i style='opacity: 0.6'>1</i>  </td><td>2            </td><td>1         </td><td>1       </td><td>&#x27;Cumings, Mrs. John Bradley (Florence Briggs Tha...</td><td>female</td><td>38.0 </td><td>1      </td><td>0      </td><td>PC 17599        </td><td>71.2833</td><td>C85    </td><td>C         </td></tr>\n",
       "<tr><td><i style='opacity: 0.6'>2</i>  </td><td>3            </td><td>1         </td><td>3       </td><td>Heikkinen, Miss. Laina                             </td><td>female</td><td>26.0 </td><td>0      </td><td>0      </td><td>STON/O2. 3101282</td><td>7.925  </td><td>nan    </td><td>S         </td></tr>\n",
       "<tr><td><i style='opacity: 0.6'>3</i>  </td><td>4            </td><td>1         </td><td>1       </td><td>Futrelle, Mrs. Jacques Heath (Lily May Peel)       </td><td>female</td><td>35.0 </td><td>1      </td><td>0      </td><td>113803          </td><td>53.1   </td><td>C123   </td><td>S         </td></tr>\n",
       "<tr><td><i style='opacity: 0.6'>4</i>  </td><td>5            </td><td>0         </td><td>3       </td><td>Allen, Mr. William Henry                           </td><td>male  </td><td>35.0 </td><td>0      </td><td>0      </td><td>373450          </td><td>8.05   </td><td>nan    </td><td>S         </td></tr>\n",
       "<tr><td>...                            </td><td>...          </td><td>...       </td><td>...     </td><td>...                                                </td><td>...   </td><td>...  </td><td>...    </td><td>...    </td><td>...             </td><td>...    </td><td>...    </td><td>...       </td></tr>\n",
       "<tr><td><i style='opacity: 0.6'>886</i></td><td>887          </td><td>0         </td><td>2       </td><td>Montvila, Rev. Juozas                              </td><td>male  </td><td>27.0 </td><td>0      </td><td>0      </td><td>211536          </td><td>13.0   </td><td>nan    </td><td>S         </td></tr>\n",
       "<tr><td><i style='opacity: 0.6'>887</i></td><td>888          </td><td>1         </td><td>1       </td><td>Graham, Miss. Margaret Edith                       </td><td>female</td><td>19.0 </td><td>0      </td><td>0      </td><td>112053          </td><td>30.0   </td><td>B42    </td><td>S         </td></tr>\n",
       "<tr><td><i style='opacity: 0.6'>888</i></td><td>889          </td><td>0         </td><td>3       </td><td>Johnston, Miss. Catherine Helen &quot;Carrie&quot;           </td><td>female</td><td>nan  </td><td>1      </td><td>2      </td><td>W./C. 6607      </td><td>23.45  </td><td>nan    </td><td>S         </td></tr>\n",
       "<tr><td><i style='opacity: 0.6'>889</i></td><td>890          </td><td>1         </td><td>1       </td><td>Behr, Mr. Karl Howell                              </td><td>male  </td><td>26.0 </td><td>0      </td><td>0      </td><td>111369          </td><td>30.0   </td><td>C148   </td><td>C         </td></tr>\n",
       "<tr><td><i style='opacity: 0.6'>890</i></td><td>891          </td><td>0         </td><td>3       </td><td>Dooley, Mr. Patrick                                </td><td>male  </td><td>32.0 </td><td>0      </td><td>0      </td><td>370376          </td><td>7.75   </td><td>nan    </td><td>Q         </td></tr>\n",
       "</tbody>\n",
       "</table>"
      ],
      "text/plain": [
       "#    PassengerId    Survived    Pclass    Name                                                 Sex     Age    SibSp    Parch    Ticket            Fare     Cabin    Embarked\n",
       "0    1              0           3         Braund, Mr. Owen Harris                              male    22.0   1        0        A/5 21171         7.25     nan      S\n",
       "1    2              1           1         'Cumings, Mrs. John Bradley (Florence Briggs Tha...  female  38.0   1        0        PC 17599          71.2833  C85      C\n",
       "2    3              1           3         Heikkinen, Miss. Laina                               female  26.0   0        0        STON/O2. 3101282  7.925    nan      S\n",
       "3    4              1           1         Futrelle, Mrs. Jacques Heath (Lily May Peel)         female  35.0   1        0        113803            53.1     C123     S\n",
       "4    5              0           3         Allen, Mr. William Henry                             male    35.0   0        0        373450            8.05     nan      S\n",
       "...  ...            ...         ...       ...                                                  ...     ...    ...      ...      ...               ...      ...      ...\n",
       "886  887            0           2         Montvila, Rev. Juozas                                male    27.0   0        0        211536            13.0     nan      S\n",
       "887  888            1           1         Graham, Miss. Margaret Edith                         female  19.0   0        0        112053            30.0     B42      S\n",
       "888  889            0           3         Johnston, Miss. Catherine Helen \"Carrie\"             female  nan    1        2        W./C. 6607        23.45    nan      S\n",
       "889  890            1           1         Behr, Mr. Karl Howell                                male    26.0   0        0        111369            30.0     C148     C\n",
       "890  891            0           3         Dooley, Mr. Patrick                                  male    32.0   0        0        370376            7.75     nan      Q"
      ]
     },
     "execution_count": 12,
     "metadata": {},
     "output_type": "execute_result"
    }
   ],
   "source": [
    "df = vaex.from_csv('files/titanic.csv')\n",
    "df"
   ]
  },
  {
   "cell_type": "code",
   "execution_count": null,
   "metadata": {},
   "outputs": [],
   "source": []
  }
 ],
 "metadata": {
  "kernelspec": {
   "display_name": "Python 3",
   "language": "python",
   "name": "python3"
  },
  "language_info": {
   "codemirror_mode": {
    "name": "ipython",
    "version": 3
   },
   "file_extension": ".py",
   "mimetype": "text/x-python",
   "name": "python",
   "nbconvert_exporter": "python",
   "pygments_lexer": "ipython3",
   "version": "3.7.6"
  }
 },
 "nbformat": 4,
 "nbformat_minor": 4
}
