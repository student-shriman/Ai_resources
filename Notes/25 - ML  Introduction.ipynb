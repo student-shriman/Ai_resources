{
 "cells": [
  {
   "cell_type": "code",
   "execution_count": 1,
   "metadata": {},
   "outputs": [],
   "source": [
    "              ##############    ############    Machine learning    ##############    ##############"
   ]
  },
  {
   "cell_type": "code",
   "execution_count": null,
   "metadata": {},
   "outputs": [],
   "source": [
    " =>  Machine Learning is the field of study that gives computers the capability to learn without being explicitly programmed.\n",
    "    \n",
    " =>  Machine Learning is the science (art) of programming computers, so they can learn from data.\n",
    "    \n",
    " =>  The term Machine Learning was coined by Arthur Samuel in 1959, an American pioneer in the field of computer gaming \n",
    "        and artificial intelligence .\n",
    "    \n",
    " =>  In 1997, Tom Mitchell gave a “well-posed” mathematical and relational definition that -\n",
    "       “A computer program is said to learn from experience E with respect to some task T and some performance measure P,\n",
    "         if its performance on T, as measured by P, improves with experience E ."
   ]
  },
  {
   "cell_type": "code",
   "execution_count": null,
   "metadata": {},
   "outputs": [],
   "source": [
    "          ##############    ############    Machine learning  Classification   ##############    ##############\n",
    "    \n",
    " =>  Machine learning implementations are classified into three major categories, depending on the nature\n",
    "       of the learning “signal” or “response” available to a learning system.\n",
    "    \n",
    "    * Supervised Learning      * Unsupervised Learning      *  Reinforcement learning     * Semi-Supervised learning\n",
    "    \n",
    "            ##############    ############    Supervised  Learning   ##############    ##############\n",
    "    \n",
    " =>  When an algorithm learns from example data and associated target responses that can consist of numeric values or \n",
    "      string labels, such as classes or tags, in order to later predict the correct response when posed with new examples\n",
    "       comes under the category of Supervised learning.\n",
    "\n",
    " =>  This approach is indeed similar to human learning under the supervision of a teacher.\n",
    "     The teacher provides good examples for the student to memorize, and the student then derives general rules\n",
    "      from these specific examples.\n",
    "        \n",
    "        \n",
    "          ##############    ############    Unsupervised  Learning   ##############    ##############\n",
    "            \n",
    " =>  Whereas when an algorithm learns from plain examples without any associated response, leaving to the algorithm\n",
    "      to determine the data patterns on its own. This type of algorithm tends to restructure the data into something else, \n",
    "        such as new features that may represent a class or a new series of un-correlated values.\n",
    "        \n",
    " =>  They are quite useful in providing humans with insights into the meaning of data and new useful inputs to \n",
    "        supervised machine learning algorithms.\n",
    "\n",
    " =>  As a kind of learning, it resembles the methods humans use to figure out that certain objects or events are from \n",
    "       the same class, such as by observing the degree of similarity between objects.\n",
    "     \n",
    " =>  Some recommendation systems that you find on the web in the form of marketing automation are based on it.\n",
    "\n",
    "\n",
    "          ##############    ############   Reinforcement Learning   ##############    ##############\n",
    "    \n",
    " =>  When you present the algorithm with examples that lack labels, as in unsupervised learning.\n",
    "     \n",
    " =>  However, you can accompany an example with positive or negative feedback according to the solution the \n",
    "       algorithm proposes comes under the category of Reinforcement learning, which is connected to applications for which\n",
    "       the algorithm must make decisions (so the product is prescriptive, not just descriptive, \n",
    "       as in unsupervised learning), and the decisions bear consequences.\n",
    "            \n",
    " =>  In the human world, it is just like learning by trial and error.\n",
    " =>  Errors help you learn because they have a penalty added (cost, loss of time, regret, pain, and so on), teaching you\n",
    "      that a certain course of action is less likely to succeed than others.\n",
    "    \n",
    " =>  An interesting example of reinforcement learning occurs when computers learn to play video games by themselves.\n",
    "      In this case, an application presents the algorithm with examples of specific situations, \n",
    "        such as having the gamer stuck in a maze while avoiding an enemy. \n",
    "     \n",
    "      The application lets the algorithm know the outcome of actions it takes, and learning occurs while trying to avoid \n",
    "        what it discovers to be dangerous and to pursue survival. \n",
    "        \n",
    " =>  You can have a look at how the company Google DeepMind has created a reinforcement learning program that plays\n",
    "       old Atari’s video games. When watching the video, notice how the program is initially clumsy and unskilled \n",
    "       but steadily improves with training until it becomes a champion.\n",
    "        \n",
    "         ##############    ############    Semi-Supervised Learning   ##############    ##############\n",
    "        \n",
    " =>  Where an incomplete training signal is given: a training set with some (often many) of the target outputs missing. \n",
    "    \n",
    " =>  There is a special case of this principle known as Transduction where the entire set of problem instances is known \n",
    "         at learning time, except that part of the targets are missing.     "
   ]
  },
  {
   "cell_type": "markdown",
   "metadata": {},
   "source": [
    "<img src=\"images/ml-types.jpeg\">"
   ]
  },
  {
   "cell_type": "code",
   "execution_count": null,
   "metadata": {},
   "outputs": [],
   "source": [
    "     ############    ##########   Basic Difference in ML and Traditional Programming?    ##########    ##############\n",
    "\n",
    " =>  Traditional Programming : We feed in DATA (Input) + PROGRAM (logic), run it on machine and get output.\n",
    "\n",
    " =>  Machine Learning : We feed in DATA(Input) + Output, run it on machine during training and the machine creates\n",
    "                           its own program(logic), which can be evaluated while testing."
   ]
  },
  {
   "cell_type": "code",
   "execution_count": null,
   "metadata": {},
   "outputs": [],
   "source": [
    "       ##############   ##########   What does exactly learning means for a computer?    ############    ###############\n",
    "\n",
    " =>  A computer is said to be learning from Experiences with respect to some class of Tasks, if its performance \n",
    "          in a given Task improves with the Experience.\n",
    "\n",
    " =>  A computer program is said to learn from experience E with respect to some class of tasks T and performance measure P,\n",
    "          if its performance at tasks in T, as measured by P, improves with experience E.\n",
    "    \n",
    "         \n",
    "        =>  Example: playing checkers.\n",
    "    E = the experience of playing many games of checkers\n",
    "    T = the task of playing checkers.\n",
    "    P = the probability that the program will win the next game\n",
    "\n",
    " => In general, any machine learning problem can be assigned to one of two broad classifications:\n",
    "        Supervised learning and Unsupervised learning."
   ]
  },
  {
   "cell_type": "code",
   "execution_count": null,
   "metadata": {},
   "outputs": [],
   "source": [
    "             ##############   ##########   How things work in reality ?    ###########    ##############\n",
    "\n",
    "*  Talking about online shopping, there are millions of users with an unlimited range of interests with respect to brands,\n",
    "    colors, price range and many more. While online shopping, buyers tend to search for a number of products.\n",
    "    \n",
    "*  Now, searching a product frequently will make buyer’s Facebook, web pages, search engine or that online store\n",
    "         start recommending or showing offers on that particular product. \n",
    "   \n",
    "*  There is no one sitting over there to code such task for each and every user, all this task is completely automatic.\n",
    "    Here, ML plays its role.\n",
    "    \n",
    "*  Researchers, data scientists, machine learners build models on the machine using good quality and a huge amount of data \n",
    "     and now their machine is automatically performing and even improving with more and more experience and time.\n",
    "\n",
    "*  Traditionally, the advertisement was only done using newspapers, magazines and radio but now technology has made us \n",
    "     smart enough to do Targeted advertisement (online ad system) which is a way more efficient method to target\n",
    "       most receptive audience.\n",
    " \n",
    "*  Even in health care also, ML is doing a fabulous job.\n",
    "*  Researchers and scientists have prepared models to train machines for detecting cancer just by looking at \n",
    "       slide – cell images.\n",
    "\n",
    "*  For humans to perform this task it would have taken a lot of time. \n",
    "\n",
    "*  But now, no more delay, machines predict the chances of having or not having cancer with some accuracy and doctors just\n",
    "     have to give an assurance call, that’s it. \n",
    "    \n",
    "*  The answer to – how is this possible is very simple -all that is required, is, high computation machine, \n",
    "     a large amount of good quality image data, ML model with good algorithms to achieve state-of-the-art results.\n",
    "\n",
    "*  Doctors are using ML even to diagnose patients based on different parameters under consideration.\n",
    " \n",
    "*  You all might have use IMDB ratings, Google Photos where it recognizes faces, Google Lens where the ML image-text\n",
    "      recognition model can extract text from the images you feed in, Gmail which categories E-mail as social, promotion, \n",
    "    updates or forum using text classification,which is a part of ML."
   ]
  },
  {
   "cell_type": "code",
   "execution_count": null,
   "metadata": {},
   "outputs": [],
   "source": [
    "        ############     ############    How Machine Learning works in reality ?    ###########    #############\n",
    "\n",
    " =>  Gathering past data in any form suitable for processing.\n",
    "    \n",
    " =>  The better the quality of data, the more suitable it will be for modeling, Data Processing.\n",
    "        Sometimes, the data collected is in the raw form and it needs to be pre-processed.\n",
    "\n",
    " => Example: Some tuples may have missing values for certain attributes, an, in this case, it has to be filled with \n",
    "               suitable values in order to perform machine learning or any form of data mining.\n",
    "\n",
    " =>  Missing values for numerical attributes such as the price of the house may be replaced with the mean value \n",
    "      of the attribute whereas missing values for categorical attributes may be replaced with the attribute with the highest\n",
    "       mode. \n",
    "        \n",
    " =>  This invariably depends on the types of filters we use. \n",
    "\n",
    " =>  If data is in the form of text or images then converting it to numerical form will be required,\n",
    "       be it a list or array or matrix. Simply, Data is to be made relevant and consistent. \n",
    " =>  It is to be converted into a format understandable by the machine.\n",
    "\n",
    " =>  Divide the input data into training,cross-validation and test sets. \n",
    "    \n",
    " =>  The ratio between the respective sets must be 6:2:2.\n",
    " =>  Building models with suitable algorithms and techniques on the training set.\n",
    "\n",
    " =>  Testing our conceptualized model with data which was not fed to the model at the time of training and evaluating its\n",
    "        performance using metrics such as F1 score, precision and recall.\n",
    " "
   ]
  },
  {
   "cell_type": "code",
   "execution_count": null,
   "metadata": {},
   "outputs": [],
   "source": [
    "       ##############    ###########   Categorizing on the basis of required Output   ##########   ###############\n",
    "    \n",
    "*  Classification  ->   When inputs are divided into two or more classes, and the learner must produce a model that assigns\n",
    "                           unseen inputs to one or more (multi-label classification) of these classes.\n",
    "                         This is typically tackled in a supervised way.\n",
    "                          \n",
    "                         Spam filtering is an example of classification, where the inputs are email (or other) messages \n",
    "                             and the classes are “spam” and “not spam”.\n",
    "                    \n",
    "*  Regression : Which is also a supervised problem, A case when the outputs are continuous rather than discrete.\n",
    "    \n",
    "*  Clustering : When a set of inputs is to be divided into groups. Unlike in classification, the groups are not known\n",
    "                   beforehand, making this typically an unsupervised task."
   ]
  },
  {
   "cell_type": "code",
   "execution_count": null,
   "metadata": {},
   "outputs": [],
   "source": [
    "   #############   ##########    Detailed explaination of Types of Machine Learning problems    #########   ##############\n",
    "    \n",
    " =>  On the basis of these machine learning tasks/problems, we have a number of algorithms which are used to accomplish \n",
    "       these tasks. \n",
    "    \n",
    " =>  Some commonly used machine learning algorithms are following.\n",
    "\n",
    "      Linear Regression, Logistic Regression, Decision Tree, SVM (Support vector machines), Naive Bayes,\n",
    "     \n",
    "          KNN (K nearest neighbors), K-Means, Random Forest, etc."
   ]
  },
  {
   "cell_type": "code",
   "execution_count": null,
   "metadata": {},
   "outputs": [],
   "source": [
    "  ########### 1 -> On basis of the nature of the learning “signal” or “feedback” available to a learning system   ###########"
   ]
  },
  {
   "cell_type": "code",
   "execution_count": null,
   "metadata": {},
   "outputs": [],
   "source": [
    "               ############    ###########    Supervised learning    ##########    ##############\n",
    "    \n",
    " =>  The computer is presented with example inputs and their desired outputs, given by a “teacher”, and the goal is to learn\n",
    "       a general rule that maps inputs to outputs.\n",
    "                        \n",
    " =>  The training process continues until the model achieves the desired level of accuracy on the training data.\n",
    " \n",
    " =>  Some real-life examples are:\n",
    "\n",
    "   * Image Classification: You train with images/labels. Then in the future you give a new image expecting that \n",
    "                             the computer will recognize the new object.\n",
    "\n",
    "   * Market Prediction/Regression: You train the computer with historical market data and ask the computer to predict the \n",
    "                                     new price in the future."
   ]
  },
  {
   "cell_type": "markdown",
   "metadata": {},
   "source": [
    "<img src=\"images/supervised.png\">"
   ]
  },
  {
   "cell_type": "code",
   "execution_count": null,
   "metadata": {},
   "outputs": [],
   "source": [
    "         #############    ###########    Understanding Supervised Learning     ############      ###############\n",
    "\n",
    "    The primary objective of supervised learning is to generalize a model from labeled training\n",
    "data. Once a model has been trained, it allows users to make predictions about unseen\n",
    "future data. Here, by labeled training data, we mean the training examples know the\n",
    "associated output labels. Hence, it is referred to as supervised learning. The learning\n",
    "process can be thought of as a teacher supervising the entire process. In such a learning\n",
    "process, we know the correct answer initially, and the students learn enough iteratively\n",
    "over time and try to answer unseen questions. The errors in the answers are corrected by\n",
    "the teacher. The process of learning stops when we can ensure the performance of the\n",
    "student has reached an acceptable level. \n",
    "\n",
    " =>  In supervised learning, we have input variables (xi) and output variables (Yi). \n",
    "     \n",
    "          so we get a function Y = f(x).\n",
    "            \n",
    " =>  The objective is to learn a general mapping function, f, so that the function can predict the output variable, \n",
    "       Y, for any new input data, x. \n",
    "    \n",
    " =>  Supervised learning algorithms can be categorized into two groups  ->  Regression & Classification\n",
    "\n",
    " =>  A regression problem has an output variable or dependent variable. This is a real value, such as weight, age, or \n",
    "         any other real numbers. \n",
    "\n",
    " =>  A classification problem has the output variable in the form of a category value; for example, red or white wines;\n",
    "        young, adult, or old. For classification problems,\n",
    "    \n",
    " =>  There are different types of classification algorithms.\n",
    "\n",
    "     * Linear classifier: Naive Bayes classifier, logistic regression, linear SVM\n",
    "\n",
    "     * Nearest neighbor\n",
    "\n",
    "     * Decision tree classifier\n",
    "        \n",
    "     * Support vector machines\n",
    "    \n",
    "     * Random Forest classifier\n",
    "     \n",
    "     * Neural network classifiers\n",
    "        \n",
    "     * Boosted trees classifier\n",
    "\n",
    " =>  A proof of concept regarding how these classifiers can be implemented in Python with the Red and White wine dataset can be\n",
    "        found in Chapter 11, EDA on Wine Quality Data Analysis"
   ]
  },
  {
   "cell_type": "code",
   "execution_count": null,
   "metadata": {},
   "outputs": [],
   "source": [
    "               ############    ###########    Unsupervised learning   ##########    ##############\n",
    "    \n",
    " =>  No labels are given to the learning algorithm, leaving it on its own to find structure in its input. \n",
    "     \n",
    " =>  It is used for clustering population in different groups.\n",
    "\n",
    " =>  Unsupervised learning can be a goal in itself (discovering hidden patterns in data).\n",
    "    \n",
    "    * Clustering: You ask the computer to separate similar data into clusters, this is essential in research and science.\n",
    "\n",
    "    * High Dimension Visualization: Use the computer to help us visualize high dimension data.\n",
    "\n",
    "    * Generative Models: After a model captures the probability distribution of your input data, it will be able\n",
    "                           to generate more data. This can be very useful to make your classifier more robust.\n",
    "            \n",
    " =>  The data in supervised learning is labelled, where as data in unsupervised learning is unlabelled."
   ]
  },
  {
   "cell_type": "markdown",
   "metadata": {},
   "source": [
    "<img src=\"images/unsupervised.png\">"
   ]
  },
  {
   "cell_type": "code",
   "execution_count": null,
   "metadata": {},
   "outputs": [],
   "source": [
    "         #############     ############   Understanding unsupervised learning    #############     #############\n",
    "    \n",
    "Unsupervised machine learning deals with unlabeled data. This type of learning can\n",
    "discover all kinds of unknown patterns in the data and can facilitate useful categorization.\n",
    "Consider a scenario where patients use an online web application to learn about a disease,\n",
    "learn about their symptoms, and manage their illness. Such web applications that provide\n",
    "psychoeducation about certain diseases are referred to as Internet-Delivered Treatments\n",
    "(IDT). Imagine several thousand patients accessing the website at different timestamps of\n",
    "the day, learning about their illness, and all their activities are being logged into our\n",
    "database. When we analyze these log files and plot them using a scatter plot, we find a\n",
    "large group of patients who are accessing the website in the afternoon and a large chunk\n",
    "accessing the website in the evening. Some other patients also follow random login\n",
    "patterns. This scenario illustrates two distinct clusters of patients: one active in the\n",
    "afternoon and one active in the evening. This typical scenario is an example of a clustering\n",
    "task.\n",
    "There are several types of unsupervised learning algorithms that we can use. However, two\n",
    "major unsupervised learning tasks are clustering and dimensionality reductions. In the\n",
    "next section, we will discuss more regarding the different applications of unsupervised\n",
    "learning algorithms."
   ]
  },
  {
   "cell_type": "code",
   "execution_count": null,
   "metadata": {},
   "outputs": [],
   "source": [
    "           ############       ##############   Applications of unsupervised learning     ##############    ############\n",
    "    \n",
    "  * Clustering: These types of algorithms allow us to categorize the dataset into several similar groups, referred to \n",
    "                   as a cluster. Each cluster represents a group of similar points.\n",
    "\n",
    "  * Association mining: These types of unsupervised learning algorithms allow us to find frequently occurring items in\n",
    "                           our dataset.\n",
    "\n",
    "  * Anomaly detection: These types of unsupervised learning algorithms help us to determine unusual data points in any \n",
    "                          existing dataset.\n",
    "\n",
    "  * Dimensionality reduction: These techniques are commonly used in data processing in order to reduce the number of features\n",
    "                                  in a dataset. This is one of the most important tasks to perform in unsupervised learning. "
   ]
  },
  {
   "cell_type": "code",
   "execution_count": null,
   "metadata": {},
   "outputs": [],
   "source": [
    "       ############       #############    Clustering using MiniBatch K-means clustering     ############    #############\n",
    "    \n",
    "In this section, we are going to use one of the unsupervised learning algorithms, that is,\n",
    "clustering. To be specific, we are going to cluster texts based on an algorithm named\n",
    "MiniBatch K-means clustering algorithm. Let's get some context regarding this.\n",
    "Whenever a researcher starts working on any particular domain, they perform various\n",
    "literature reviews to comprehend the state of the art in any particular domain. Such a study\n",
    "is referred to as a review paper. When writing such review papers, you set up a set of\n",
    "search keywords and execute the search in many research paper indexing databases, such\n",
    "as scholar.google.com (https://scholar.google.com/). After performing the search in\n",
    "several databases, you will have a list of relevant articles that you want to study. In this\n",
    "case, we have performed the search and the lists of relevant articles have been provided in\n",
    "the form of an Excel sheet. Note that each row in the Excel file contains some metadata\n",
    "about the related paper.\n",
    "You can find out more about the MiniBatch K-means clustering algorithm\n",
    "by looking at the official documentation of the sklearn library: https://\n",
    "scikit-learn.org/stable/modules/generated/sklearn.cluster.\n",
    "MiniBatchKMeans.html. "
   ]
  },
  {
   "cell_type": "code",
   "execution_count": null,
   "metadata": {},
   "outputs": [],
   "source": [
    "               ############    ###########    Semi-Supervised learning    ##########    ##############\n",
    "    \n",
    " =>  Problems where we have a large amount of input data and only some of the data is labeled, \n",
    "      Then these data are called semi-supervised learning problems.\n",
    "     These problems sit in between both supervised and unsupervised learning.\n",
    "        \n",
    " =>  For example, a photo archive where only some of the images are labeled, (e.g. dog, cat, person) and \n",
    "          the majority are unlabeled."
   ]
  },
  {
   "cell_type": "code",
   "execution_count": null,
   "metadata": {},
   "outputs": [],
   "source": [
    "              ############    ###########    Reinforcement  learning    ##########    ##############\n",
    "\n",
    "=>   A computer program interacts with a dynamic environment in which it must perform a certain goal\n",
    "      (such as driving a vehicle or playing a game against an opponent).\n",
    "    \n",
    " =>  The program is provided feedback in terms of rewards and punishments as it navigates its problem space."
   ]
  },
  {
   "cell_type": "markdown",
   "metadata": {},
   "source": [
    "<img src='images/reinforcement.png'> "
   ]
  },
  {
   "cell_type": "code",
   "execution_count": null,
   "metadata": {},
   "outputs": [],
   "source": [
    "           ############      ############     Understanding reinforcement learning     #############       ############\n",
    "    \n",
    " =>  In reinforcement learning, an agent changes its states to maximize its goals. \n",
    "\n",
    " =>  There are four distinct concepts here: agent, state, action, and reward.\n",
    "        \n",
    "  * Agent: This is the program we train. It chooses actions over time from its action space within the environment for\n",
    "                a specified task.\n",
    "\n",
    "  * State: This is the observation thats received by the agent from its environment and represents the agents current situation.\n",
    "\n",
    "  * Action: This is a choice thats made by an agent from its action space. The actionchanges the state of the agent.\n",
    "\n",
    "  * Reward: This is the resultant feedback regarding the agents action and describes how the agent ought to behave."
   ]
  },
  {
   "cell_type": "markdown",
   "metadata": {},
   "source": [
    "<img src=\"images/rl.jpeg\">"
   ]
  },
  {
   "cell_type": "code",
   "execution_count": null,
   "metadata": {},
   "outputs": [],
   "source": [
    " =>  As shown in the preceding diagram, reinforcement learning involves an agent, an\n",
    "environment, a set of actions, a set of states, and a reward system. The agent interacts with\n",
    "the environment and modifies its state. Based on this modification, it gets rewards or\n",
    "penalties for its input. The goal of the agent is to maximize the reward over time.\n"
   ]
  },
  {
   "cell_type": "code",
   "execution_count": null,
   "metadata": {},
   "outputs": [],
   "source": [
    "     ################    ###########   Supervised  Learning  vs  Reinforcement Learning   #############    ##############\n",
    "\n",
    " =>  A supervised learning algorithm is used when we have a labeled training dataset.\n",
    "Reinforcement learning is used in a scenario where an agent interacts with an environment\n",
    "to observe a basic behavior and change its state to maximize its rewards or goal. \n",
    "\n",
    " =>  One of the essential features of RL is that the agent's action may not affect the immediate\n",
    "state of the environment that it is working in, but it can affect the subsequent states. Hence,\n",
    "the algorithm might not learn in the initial state but can learn after a few states are\n",
    "changed. "
   ]
  },
  {
   "cell_type": "markdown",
   "metadata": {},
   "source": [
    "<img src=\"images/sl-vs-rl.jpeg\">"
   ]
  },
  {
   "cell_type": "code",
   "execution_count": null,
   "metadata": {},
   "outputs": [],
   "source": [
    "       #############     ###########    Applications of Reinforcement Learning   ############     #############\n",
    "\n",
    "  * Text mining: Several researchers and companies have started to use the RLbased text generation model to produce \n",
    "                      highly readable text summaries from long text.\n",
    "\n",
    "  * Robotics: Several deep RL-based algorithms are used in the field of robotics engineering to enhance the performance of\n",
    "                robotics based on the reward system.\n",
    "\n",
    "  * Healthcare: Several studies show that RL can be used in healthcare to optimize medication dosage and treatment policies.\n",
    "\n",
    "  * Trading: Several RL-based models are used in trading businesses to optimize trading outcomes."
   ]
  },
  {
   "cell_type": "code",
   "execution_count": null,
   "metadata": {},
   "outputs": [],
   "source": [
    "   ############   ######   2. On the basis of “output” desired from a machine learned system    ###########   ###############"
   ]
  },
  {
   "cell_type": "code",
   "execution_count": null,
   "metadata": {},
   "outputs": [],
   "source": [
    "          ###############    ############   Classification In Machine learning    #############   ###############\n",
    "    \n",
    " =>   Inputs are divided into two or more classes, and the learner must produce a model that assigns unseen inputs to\n",
    "        one or more (multi-label classification) of these classes. \n",
    "     This is typically tackled in a supervised way. \n",
    "        \n",
    " =>  Spam filtering is an example of classification, where the inputs are email (or other) messages and the classes are “spam”\n",
    "        and “not spam”.\n",
    "    \n",
    " \n",
    "         ##############    #############   Regression  In Machine learning    #############   ###############\n",
    "    \n",
    " =>   It is also a supervised learning problem, but the outputs are continuous rather than discrete. \n",
    "          For example, predicting the stock prices using historical data.\n",
    "    \n",
    " =>  Some Regression algorithms can be used for classification works, likes as Logistic Regression which can output \n",
    "       a value that corresponds to the probability of a Class."
   ]
  },
  {
   "cell_type": "markdown",
   "metadata": {},
   "source": [
    "<img src='images/classification.png'>"
   ]
  },
  {
   "cell_type": "code",
   "execution_count": null,
   "metadata": {},
   "outputs": [],
   "source": [
    "           ##############    #############   Clustering In Machine learning    #############   ###############\n",
    "    \n",
    " =>  Here, a set of inputs is to be divided into groups. Unlike in classification, the groups are not known beforehand, \n",
    "         making this typically an unsupervised task.\n",
    " \n",
    " =>  As you can see in the example below, the given dataset points have been divided into groups identifiable by\n",
    "         the colors red, green and blue.\n",
    "        \n"
   ]
  },
  {
   "cell_type": "markdown",
   "metadata": {},
   "source": [
    "<img src='images/clustering.png'>"
   ]
  },
  {
   "cell_type": "code",
   "execution_count": null,
   "metadata": {},
   "outputs": [],
   "source": [
    "         ##############    #############   Density estimation in Machine learning    #############   ###############\n",
    "    \n",
    " =>   The task is to find the distribution of inputs in some space.\n",
    "\n",
    "        ##############    #############   Dimensionality Reduction In Machine learning    #############   ###############\n",
    "    \n",
    " =>  It simplifies inputs by mapping them into a lower-dimensional space. \n",
    "       \n",
    " =>  Topic modeling is a related problem, where a program is given a list of human language documents and is tasked \n",
    "        to find out which documents cover similar topics."
   ]
  },
  {
   "cell_type": "code",
   "execution_count": null,
   "metadata": {},
   "outputs": [],
   "source": [
    "          ##############    ############    Terminologies of Machine Learning     #############   ###############\n",
    "   \n",
    " * Model  ->  A model is a specific representation learned from data by applying some machine learning algorithm.\n",
    "                 A model is also called hypothesis.\n",
    "\n",
    " \n",
    " * Feature  -> A feature is an individual measurable property of our data. \n",
    "               A set of numeric features can be conveniently described by a 'Feature vector'. \n",
    "               Feature vectors are fed as input to the model. For example, in order to predict a fruit, \n",
    "                 there may be features like color, smell, taste, etc.\n",
    "   \n",
    "   => Note: Choosing informative, discriminating and independent features is a crucial step for effective algorithms.\n",
    "              We generally employ a feature extractor to extract the relevant features from the raw data.\n",
    "\n",
    "\n",
    "* Target (Label)  -> A target variable or label is the value to be predicted by our model. \n",
    "                        For the fruit example discussed in the features section, the label with each set of input would be\n",
    "                          the name of the fruit like apple, orange, banana, etc.\n",
    "\n",
    " \n",
    " * Training  ->  The idea is to give a set of inputs(features) and it’s expected outputs(labels), so after training,\n",
    "                   we will have a model (hypothesis) that will then map new data to one of the categories trained on.\n",
    "\n",
    "\n",
    " * Prediction  ->  Once our model is ready, it can be fed a set of inputs to which it will provide a predicted output(label).\n",
    "\n"
   ]
  },
  {
   "cell_type": "markdown",
   "metadata": {},
   "source": [
    "<img src='images/training.png'>"
   ]
  },
  {
   "cell_type": "code",
   "execution_count": null,
   "metadata": {},
   "outputs": [],
   "source": [
    "      ###########   ##############   Types of Learning – Supervised Learning    ###########    ###############"
   ]
  },
  {
   "cell_type": "code",
   "execution_count": null,
   "metadata": {},
   "outputs": [],
   "source": [
    "        ##############   ###########   What is Learning for a machine ?     #############     ###############\n",
    "\n",
    " =>  A machine is said to be learning from past Experiences(data feed in) with respect to some class of Tasks,\n",
    "      if it’s Performance in a given Task improves with the Experience.For example, assume that a machine has to predict\n",
    "       whether a customer will buy a specific product lets say “Antivirus” this year or not.\n",
    "        \n",
    " =>  The machine will do it by looking at the previous knowledge/past experiences.\n",
    "     i.e the data of products that the customer had bought every year and if he buys Antivirus every year, \n",
    "      then there is a high probability that the customer is going to buy an antivirus this year as well.\n",
    "        \n",
    " =>  This is how machine learning works at the basic conceptual level."
   ]
  },
  {
   "cell_type": "markdown",
   "metadata": {},
   "source": [
    "<img src='images/ml-train-test.png'>\n",
    "<img src='images/ml-cat.png'>"
   ]
  },
  {
   "cell_type": "code",
   "execution_count": null,
   "metadata": {},
   "outputs": [],
   "source": [
    "        ############    ############   Supervised Learning   ############    ##############\n",
    " \n",
    " =>  Supervised learning is when the model is getting trained on a labelled dataset.\n",
    "  \n",
    " =>  Labelled dataset is one which have both input and output parameters. In this type of learning both training and validation \n",
    "       datasets are labelled as shown in the figures below.\n",
    "        \n",
    " =>  Both the above figures have labelled data set  –\n",
    "\n",
    "  * Figure A ->  It is a dataset of a shopping store which is useful in predicting whether a customer will purchase a \n",
    "                   particular product under consideration or not based on his/ her gender, age and salary.\n",
    "  \n",
    "                 Input  : Gender, Age, Salary\n",
    "                 Output : Purchased i.e. 0 or 1 ;  1 means yes the customer will purchase and 0 means not purchase.\n",
    "\n",
    "  * Figure B -> It is a Meteorological dataset which serves the purpose of predicting wind speed based on different parameters.\n",
    "\n",
    "                 Input  : Dew Point, Temperature, Pressure, Relative Humidity, Wind Direction\n",
    "                 Output : Wind Speed"
   ]
  },
  {
   "cell_type": "markdown",
   "metadata": {},
   "source": [
    "<img src=\"images/ml reg vs class.png\">"
   ]
  },
  {
   "cell_type": "code",
   "execution_count": null,
   "metadata": {},
   "outputs": [],
   "source": [
    "                 #############   #############   Trainining the System   ###########     ###############\n",
    " \n",
    " =>  While training the model, data is usually split in the ratio of 80:20.  \n",
    "      i.e. 80% as training data and rest as testing data. \n",
    "    \n",
    " =>  In training data, we feed input as well as output for 80% data and the model learns from training data only.\n",
    "\n",
    " =>  We use different machine learning algorithms to build our model and by learning, it means that the model will build \n",
    "        some logic of its own.\n",
    "\n",
    " =>  Once the model is ready then it is good to be tested.\n",
    "\n",
    " =>  At the time of testing, the input is fed from the remaining 20% data which the model has never seen before, \n",
    "        the model will predict some value and we will compare it with actual output and calculate the accuracy."
   ]
  },
  {
   "cell_type": "markdown",
   "metadata": {},
   "source": [
    "<img src = 'images/ML SL-type.png'>"
   ]
  },
  {
   "cell_type": "code",
   "execution_count": null,
   "metadata": {},
   "outputs": [],
   "source": [
    "           ############    ###########   Types of Supervised Learning    ##############    ##############"
   ]
  },
  {
   "cell_type": "code",
   "execution_count": null,
   "metadata": {},
   "outputs": [],
   "source": [
    "          ##############    ##############   Regression  in Machine Learning     ##############    ##############\n",
    "\n",
    " =>   Regression is a Supervised Learning task where output is having continuous value.\n",
    "\n",
    " =>  Example in above Figure B, Output Wind Speed is not having any discrete value but is continuous in the particular range. \n",
    "     \n",
    " =>  The goal here is to predict a value as much closer to actual output value as our model can and then evaluation is done \n",
    "        by calculating error value. The smaller the error the greater the accuracy of our regression model."
   ]
  },
  {
   "cell_type": "code",
   "execution_count": null,
   "metadata": {},
   "outputs": [],
   "source": [
    "       ##############    ##############   Classification  in Machine Learning   ##############    ##############\n",
    "    \n",
    " =>  Classification is a Supervised Learning task where output is having defined labels(discrete value).\n",
    "\n",
    " =>  For example in above Figure A, Output – Purchased has defined labels i.e. 0 or 1 ; \n",
    "         1 means the customer will purchase and 0 means that customer won’t purchase. \n",
    "        \n",
    " =>  The goal here is to predict discrete values belonging to a particular class and evaluate on the basis of accuracy.\n",
    "\n",
    " =>  It can be either binary or multi class classification. \n",
    "    \n",
    " =>  In binary classification, model predicts either 0 or 1 ; yes or no but in case of multi class classification,\n",
    "          model predicts more than one class.\n",
    "         \n",
    "        Example: Gmail classifies mails in more than one classes like social, promotions, updates, forum."
   ]
  },
  {
   "cell_type": "markdown",
   "metadata": {},
   "source": [
    "            ############   #############   Links for important pages   ############    ###########\n",
    "    \n",
    " *  [Some Interview questions for Machine learning](https://www.geeksforgeeks.org/10-basic-machine-learning-interview-questions/)\n",
    "\n",
    " *  [Ml Semi supervised learning](https://www.geeksforgeeks.org/ml-semi-supervised-learning/?ref=rp)\n",
    "    \n",
    " *  [supervised vs unsupervised](https://www.geeksforgeeks.org/difference-between-supervised-and-unsupervised-learning/?ref=rp)\n",
    "\n",
    " *  [Regression vs Classification](https://www.geeksforgeeks.org/regression-classification-supervised-machine-learning/?ref=rp)\n",
    "    \n",
    " *  [Reinforcement learning](https://www.geeksforgeeks.org/what-is-reinforcement-learning/?ref=rp)"
   ]
  },
  {
   "cell_type": "code",
   "execution_count": null,
   "metadata": {},
   "outputs": [],
   "source": [
    "         #############    ############   Supervised learning vs Unsupervised Learning   #############    ############"
   ]
  },
  {
   "cell_type": "code",
   "execution_count": null,
   "metadata": {},
   "outputs": [],
   "source": [
    "               #############    ############   Supervised learning   ############    ##############\n",
    "    \n",
    " =>  Supervised learning is the learning of the model where with input variable ( say, x) and an output variable (say, Y) \n",
    "           and an algorithm to map the input to the output.\n",
    "    \n",
    "         That is, Y = f(X)\n",
    "        \n",
    " =>  Why supervised learning ?\n",
    "\n",
    "      The basic aim is to approximate the mapping function(mentioned above) so well that when there is a new input data (x) \n",
    "         then the corresponding output variable can be predicted.\n",
    "     It is called supervised learning because the process of an learning(from the training dataset) can be thought of as \n",
    "       a teacher who is supervising the entire learning process. \n",
    "         \n",
    "     Thus, the “learning algorithm” iteratively makes predictions on the training data and is corrected by the “teacher”, \n",
    "       and the learning stops when the algorithm achieves an acceptable level of performance(or the desired accuracy).\n",
    "        \n",
    " =>  Example of Supervised Learning -\n",
    "\n",
    "  ** Suppose there is a basket which is filled with some fresh fruits, the task is to arrange the same type of fruits \n",
    "        at one place and the fruits are apple, banana, cherry, grape.\n",
    "\n",
    "    Suppose one already knows from their previous work (or experience) that, the shape of each and every fruit present\n",
    "       in the basket so, it is easy for them to arrange the same type of fruits in one place.\n",
    "        \n",
    " =>  Here, the previous work is called as training data in Data Mining terminology. \n",
    "       So, it learns the things from the training data.\n",
    "     This is because it has a response variable which says y that if some fruit has so and so features then it is grape,\n",
    "         and similarly for each and every fruit.\n",
    "\n",
    " => This type of information is deciphered from the data that is used to train the model.\n",
    "\n",
    " => This type of learning is called Supervised Learning and such problems are listed under classical Classification Tasks.\n",
    "    \n",
    " =>  in classification, the labels are\n",
    "discrete categories, while in regression, the labels are continuous quantities. \n",
    "\n",
    " =>  Supervised learning involves somehow modeling the relationship between measured\n",
    "features of data and some label associated with the data; once this model is deter‐\n",
    "mined, it can be used to apply labels to new, unknown data.\n",
    "\n",
    " =>  Unsupervised learning involves modeling the features of a dataset without reference to\n",
    "any label, and is often described as “letting the dataset speak for itself.” \n",
    "\n",
    " =>  These models include tasks such as clustering and dimensionality reduction. \n",
    "     Clustering algorithms identify distinct groups of data, while dimensionality reduction algorithms search for\n",
    "more succinct representations of the data. \n",
    "\n",
    " =>  In addition, there are so-called semi-supervised learning methods, which fall some‐\n",
    "where between supervised learning and unsupervised learning. Semi-supervised\n",
    "learning methods are often useful when only incomplete labels are available.\n",
    "\n"
   ]
  },
  {
   "cell_type": "code",
   "execution_count": null,
   "metadata": {},
   "outputs": [],
   "source": []
  },
  {
   "cell_type": "code",
   "execution_count": null,
   "metadata": {},
   "outputs": [],
   "source": [
    "               #############    ############   Unsupervised  learning   ############    ##############\n",
    "    \n",
    " =>  Unsupervised learning is where only the input data (say, X) is present and no corresponding output variable is there.\n",
    "\n",
    " =>  Why Unsupervised Learning?\n",
    "\n",
    "     The main aim of Unsupervised learning is to model the distribution in the data in order to learn more about the data.\n",
    "       It is called so, because there is no correct answer and there is no such teacher(unlike supervised learning).\n",
    "     Algorithms are left to their own devises to discover and present the interesting structure in the data.\n",
    "        \n",
    " =>  Example of Unsupervised Learning -\n",
    "\n",
    "   ** Again, Suppose there is a basket and it is filled with some fresh fruits. The task is to arrange the same type of fruits\n",
    "         at one place.\n",
    "      This time there is no information about those fruits beforehand, its the first time that the fruits are being seen or\n",
    "         discovered So how to group similar fruits without any prior knowledge about those.\n",
    "\n",
    "   =>  First, any physical characteristic of a particular fruit is selected. Suppose color.\n",
    "         Then the fruits are arranged on the basis of the color.\n",
    "    \n",
    " =>  The job is done! Here, there is no need to know or learn anything beforehand. \n",
    "       That means, no train data and no response variable. This type of learning is known as Unsupervised Learning."
   ]
  },
  {
   "cell_type": "markdown",
   "metadata": {},
   "source": [
    "<img src =\"images/usl-pic.jpeg\">\n",
    "<img src =\"images/sl-vs-usl.jpeg\">"
   ]
  },
  {
   "cell_type": "code",
   "execution_count": null,
   "metadata": {},
   "outputs": [],
   "source": [
    "       #################   #############   Batch learning vs Online Learning    ###############    ###############\n",
    "    \n",
    " =>  In batch learning, the system is incapable of learning incrementally.\n",
    "     It must be trained using all the available data. This will generally take a lot of time and computing resources, so it is\n",
    "      typically done offline. First the system is trained, and then it is launched into production and runs without learning\n",
    "        anymore; it just applies what it has learned. This is called offline learning.\n",
    "\n",
    " =>  If you want a batch learning system to know about new data (such as a new type of spam), you need to train a new version\n",
    "      of the system from scratch on the full dataset (not just the new data, but also the old data), then stop the old system \n",
    "       and replace it with the new one. Batch learning system can adapt to change. Simply update the data and train a new\n",
    "         version of the system from scratch as often as needed.\n",
    "\n",
    " =>  This solution is simple and often works fine, but training using the full set of data can take many hours, so \n",
    "      you would typically train a new system only every 24 hours or even just weekly. If your system needs to adapt to rapidly\n",
    "      changing data (e.g., to predict stock prices), then you need a more reactive solution.\n",
    "\n",
    " =>  Also, training on the full set of data requires a lot of computing resources (CPU, memory space, disk space, disk I/O, \n",
    "      network I/O, etc.). If you have a lot of data and you automate your system to train from scratch every day, it will\n",
    "     end up costing you a lot of money. If the amount of data is huge, it may even be impossible to use a Batch Learning\n",
    "       algorithm.\n",
    "\n",
    " =>  Finally, if your system needs to be able to learn autonomously and it has limited resources (e.g., a smartphone application\n",
    "     or a rover on Mars), then carrying around large amounts of training data and taking up a lot of resources to train\n",
    "      for hours every day is a showstopper.\n",
    "     Fortunately, a better option in all these cases is to use algorithms that are capable of learning incrementally.\n",
    "\n",
    "\n",
    " =>  In online learning, you train the system incrementally by feeding it data instances sequentially, either individually or\n",
    "      by small groups called mini-batches. Each learning step is fast and cheap, so the system can learn about new data on \n",
    "     the fly, as it arrives.\n",
    "\n",
    " =>  Online learning is great for systems that receive data as a continuous flow (e.g., stock prices) and need to adapt \n",
    "      to change rapidly or autonomously. It is also a good option if you have limited computing resources.\n",
    "    \n",
    " =>  Once an online learning system has learned about new data instances, it does not need them anymore, so you can\n",
    "      discard them (unless you want to be able to roll back to a previous state and “replay” the data). \n",
    "     This can save a huge amount of space.\n",
    "\n",
    " =>  Online learning algorithms can also be used to train systems on huge datasets that cannot fit in one machine’s main memory \n",
    "      (This is called out-of-core learning). The algorithm loads part of the data, runs a training step on that data,\n",
    "      and repeats the process until it has run on all of the data.\n",
    "\n",
    " =>  One important parameter of online learning systems is how fast they should adapt to changing data.\n",
    "     This is called the learning rate. If you set a high learning rate, then your system will rapidly adapt to new data,\n",
    "      but it will also tend to quickly forget the old data (you don’t want a spam filter to flag only the latest kinds of spam \n",
    "        it was shown).\n",
    "\n",
    "    Conversely, if you set a low learning rate, the system will have more inertia; that is, it will learn more slowly, \n",
    "      but it will also be less sensitive to noise in the new data or to sequences of nonrepresentative data points (outliers)."
   ]
  },
  {
   "cell_type": "code",
   "execution_count": null,
   "metadata": {},
   "outputs": [],
   "source": [
    "    #############  ###########   Some popular questions related to machine Learning   ##############   #############\n",
    "\n",
    " 1.  How would you define Machine Learning?\n",
    " 2.  Can you name four types of problems where it shines?\n",
    " 3.  What is a labeled training set?\n",
    " 4.  What are the two most common supervised tasks?\n",
    " 5.  Can you name four common unsupervised tasks?\n",
    " 6.  What type of Machine Learning algorithm would you use to allow a robot to walk in various unknown terrains?\n",
    " 7.  What type of algorithm would you use to segment your customers into multiple groups?\n",
    " 8.  Would you frame the problem of spam detection as a supervised learning problem or an unsupervised learning problem?\n",
    " 9.  What is an online learning system?\n",
    "10.  What is out-of-core learning?\n",
    "11.  What type of learning algorithm relies on a similarity measure to make predictions?\n",
    "12.  What is the difference between a model parameter and a learning algorithm’s hyperparameter?\n",
    "13.  What do model-based learning algorithms search for? What is the most common strategy they use to succeed?\n",
    "     How do they make predictions? \n",
    "14.  Can you name four of the main challenges in Machine Learning?\n",
    "15.  If your model performs great on the training data but generalizes poorly to new instances, what is happening?\n",
    "     Can you name three possible solutions?\n",
    "16.  What is a test set and why would you want to use it?\n",
    "17.  What is the purpose of a validation set?\n",
    "18.  What can go wrong if you tune hyperparameters using the test set?\n",
    "19.  What is repeated cross-validation and why would you prefer it to using a single validation set?\n"
   ]
  }
 ],
 "metadata": {
  "kernelspec": {
   "display_name": "Python 3",
   "language": "python",
   "name": "python3"
  },
  "language_info": {
   "codemirror_mode": {
    "name": "ipython",
    "version": 3
   },
   "file_extension": ".py",
   "mimetype": "text/x-python",
   "name": "python",
   "nbconvert_exporter": "python",
   "pygments_lexer": "ipython3",
   "version": "3.8.3"
  }
 },
 "nbformat": 4,
 "nbformat_minor": 4
}
