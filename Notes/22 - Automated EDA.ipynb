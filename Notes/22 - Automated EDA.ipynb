{
 "cells": [
  {
   "cell_type": "code",
   "execution_count": null,
   "metadata": {},
   "outputs": [],
   "source": [
    "          ##############    #############   EDA with pandas-profiling    ###############    ###############\n",
    "    \n",
    " =>  ProfileReport() is used to create a EDA report on top of dataset.\n",
    "\n",
    "        >>>  profile = ProfileReport(dataframe, Title='Pandas profile  report', html={'style':{'full_width':True}})\n",
    "        >>>  profile.to_widgets()\n",
    "        \n",
    "        \n",
    "  *  ProfileReport(df, minimal=False, explorative=False, lazy(bool) = True, **kwargs)\n"
   ]
  },
  {
   "cell_type": "code",
   "execution_count": null,
   "metadata": {},
   "outputs": [],
   "source": [
    "        ##############    ############    Some methods with reference to profile   #############    ################\n",
    "\n",
    " =>  profile.clear_config()  ->  This restores the configuration to default mode.\n",
    "\n",
    " =>  profile.df()  ->  This return the dataframe associated with geneerated profile.\n",
    "\n",
    " =>  profile.df_hash  ->  This return a Hash Value for Profile report.\n",
    "\n",
    " =>  profile.description_set  ->  this return the descriptions of a Profile report.\n",
    "\n",
    " =>  profile.get_description()  ->  This return the description (a raw statistical summary) of the dataset.\n",
    "\n",
    " =>  profile.get_duplicates()  ->  This return duplicate rows and counts based on the configuration.\n",
    "\n",
    " =>  profile.get_rejected_variables()  ->  This return  variables that are rejected for analysis.\n",
    "                                                  (e.g. constant, mixed data types)\n",
    "    \n",
    " =>  profile.get_sample()  ->  This return head/tail samples based on the configuration.\n",
    "\n",
    " =>  profile.html  ->  This renders the whole profile into a HTML page.\n",
    "    \n",
    " =>  profile.json  ->  This renders the whole profile into a json file.\n",
    "\n",
    " =>  profile.set_variable/s(key, value)  ->   This changes the variable inside a configuration file.\n",
    "    \n",
    " =>  profile.title  ->  This return the Title of Profile Report.\n",
    "\n",
    " =>  profile.to_app()   ->  This is a futuristic property. Experimental.\n",
    "    \n",
    " =>  profile.to_file(output-file)  ->  This writes the Report to a file.\n",
    "\n",
    " =>  profile.to_notebok_iframe()  ->  This display the Profile report inside the notebook.\n",
    "    \n",
    " =>  profile.to_widgets()  ->  This displys the Profile report of dataframe similary in the notebook."
   ]
  },
  {
   "cell_type": "code",
   "execution_count": null,
   "metadata": {},
   "outputs": [],
   "source": [
    "    ############    #############   Generating a profile report using pandas-profiling    #############   #############    "
   ]
  },
  {
   "cell_type": "code",
   "execution_count": null,
   "metadata": {},
   "outputs": [],
   "source": [
    "#  Creating a Dataframe\n",
    "df = pd.DataFrame(np.random.rand(100, 5), columns=['a', 'b', 'c', 'd', 'e'])\n",
    "\n",
    "# Creating the Profile reports\n",
    "profile = ProfileReport(df, title='Pandas Profiling Report', html={'style':{'full_width':False}})\n",
    "\n",
    "# Displaying the report\n",
    "profile"
   ]
  },
  {
   "cell_type": "code",
   "execution_count": null,
   "metadata": {},
   "outputs": [],
   "source": [
    "         ############    #############   Performing EDA operation using  Sweetviz    #############   #############    "
   ]
  },
  {
   "cell_type": "code",
   "execution_count": null,
   "metadata": {},
   "outputs": [],
   "source": [
    "            ##########    #############   Sweetviz Library Documentation     ##############    ############\n",
    "    \n",
    " =>  sz.analyze()  ->  This method is used to perform some analysis on dataframes\n",
    "  \n",
    "        * source = DataFrame, Tuple(df, str)              *  feat-cfg = None\n",
    "                                                    \n",
    "        * target_feat (str)  =  None                      *  pairwise_analysis (str) = 'auto'\n",
    "\n",
    "      >>>  report = sz.analyze(df, target_feat='')\n",
    "      >>>  report.show_html('Output.html')\n",
    " "
   ]
  },
  {
   "cell_type": "code",
   "execution_count": null,
   "metadata": {},
   "outputs": [],
   "source": [
    "           #############    ############    Generating Reports using sweetviz     ###############    #############\n",
    "    \n",
    "# Creating report for df\n",
    "my_report = sz.analyze(df)\n",
    "\n",
    "# displaying report as a webpage\n",
    "my_report.show_html('Report.html')"
   ]
  },
  {
   "cell_type": "code",
   "execution_count": null,
   "metadata": {},
   "outputs": [],
   "source": [
    "          ##############    ###########  Some more methods in sweetviz Library    #############   ###############\n",
    "    \n",
    " =>   Complete this table by looking into the Documentations with [shift] + [Tab] .\n",
    "\n",
    "sz.compare\n",
    "sz.compare_intra\n",
    "sz.config\n",
    "sz.config_parser\n",
    "sz.dataframe_report\n",
    "sz.feature_config\n",
    "sz.FeatureConfig\n",
    "sz.from_dython\n",
    "sz.from_profiling_pandas\n",
    "sz.graph\n",
    "sz.graph_associations\n",
    "sz.graph_cat\n",
    "sz.graph_legend\n",
    "sz.graph_numeric\n",
    "sz.series_analyzer\n",
    "sz.series_analyzer_cat\n",
    "sz.series_analyzer_numeric\n",
    "sz.series_analyzer_text\n",
    "sz.sv_html\n",
    "sz.sv_html_formatters\n",
    "sz.sv_math\n",
    "sz.sv_public\n",
    "sz.sv_types\n",
    "sz.type_detection\n",
    "sz.utils\n"
   ]
  },
  {
   "cell_type": "code",
   "execution_count": null,
   "metadata": {},
   "outputs": [],
   "source": [
    "           ############    Some more attributes with reference to a Sweetviz Report object     ###############\n",
    "    \n",
    " =>  Complete this by looking documentation and doing experiments with all attributes."
   ]
  },
  {
   "cell_type": "code",
   "execution_count": null,
   "metadata": {},
   "outputs": [],
   "source": []
  }
 ],
 "metadata": {
  "kernelspec": {
   "display_name": "Python 3",
   "language": "python",
   "name": "python3"
  },
  "language_info": {
   "codemirror_mode": {
    "name": "ipython",
    "version": 3
   },
   "file_extension": ".py",
   "mimetype": "text/x-python",
   "name": "python",
   "nbconvert_exporter": "python",
   "pygments_lexer": "ipython3",
   "version": "3.7.6"
  }
 },
 "nbformat": 4,
 "nbformat_minor": 4
}